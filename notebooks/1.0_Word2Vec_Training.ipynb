{
 "cells": [
  {
   "cell_type": "code",
   "execution_count": 47,
   "id": "290ed11d",
   "metadata": {},
   "outputs": [
    {
     "name": "stderr",
     "output_type": "stream",
     "text": [
      "[nltk_data] Downloading package stopwords to\n",
      "[nltk_data]     C:\\Users\\Chike\\AppData\\Roaming\\nltk_data...\n",
      "[nltk_data]   Package stopwords is already up-to-date!\n",
      "[nltk_data] Downloading package wordnet to\n",
      "[nltk_data]     C:\\Users\\Chike\\AppData\\Roaming\\nltk_data...\n",
      "[nltk_data]   Package wordnet is already up-to-date!\n"
     ]
    }
   ],
   "source": [
    "import pandas as pd\n",
    "import numpy as np\n",
    "import tensorflow as tf\n",
    "import re\n",
    "import nltk\n",
    "nltk.download('stopwords') \n",
    "nltk.download('wordnet')\n",
    "import nltk\n",
    "from nltk.tokenize import RegexpTokenizer\n",
    "from nltk.stem import WordNetLemmatizer,PorterStemmer\n",
    "from nltk.corpus import stopwords\n",
    "import re\n",
    "from gensim.models import Word2Vec\n",
    "from sklearn.decomposition import PCA\n",
    "from matplotlib import pyplot\n",
    "from nltk.corpus import stopwords\n",
    "stop = stopwords.words('english')\n",
    "\n",
    "lemmatizer = WordNetLemmatizer()\n",
    "stemmer = PorterStemmer() \n",
    "\n",
    "def preprocess(sentence):\n",
    "    sentence=str(sentence)\n",
    "    sentence = sentence.lower()\n",
    "    sentence=sentence.replace('{html}',\"\") \n",
    "    cleanr = re.compile('<.*?>')\n",
    "    cleantext = re.sub(cleanr, '', sentence)\n",
    "    rem_url=re.sub(r'http\\S+', '',cleantext)\n",
    "    rem_num = re.sub('[0-9]+', '', rem_url)\n",
    "    tokenizer = RegexpTokenizer(r'\\w+')\n",
    "    tokens = tokenizer.tokenize(rem_num)  \n",
    "#     filtered_words = [w for w in tokens if len(w) > 2 if not w in stopwords.words('english')]\n",
    "#     stem_words=[stemmer.stem(w) for w in filtered_words]\n",
    "#     lemma_words=[lemmatizer.lemmatize(w) for w in stem_words]\n",
    "    return \" \".join(rem_num)\n",
    "\n",
    "\n",
    "# df['cleanText']=df['Text'].map(lambda s:preprocess(s)) "
   ]
  },
  {
   "cell_type": "code",
   "execution_count": 48,
   "id": "d64d3af6",
   "metadata": {
    "scrolled": true
   },
   "outputs": [
    {
     "data": {
      "text/html": [
       "<div>\n",
       "<style scoped>\n",
       "    .dataframe tbody tr th:only-of-type {\n",
       "        vertical-align: middle;\n",
       "    }\n",
       "\n",
       "    .dataframe tbody tr th {\n",
       "        vertical-align: top;\n",
       "    }\n",
       "\n",
       "    .dataframe thead th {\n",
       "        text-align: right;\n",
       "    }\n",
       "</style>\n",
       "<table border=\"1\" class=\"dataframe\">\n",
       "  <thead>\n",
       "    <tr style=\"text-align: right;\">\n",
       "      <th></th>\n",
       "      <th>id</th>\n",
       "      <th>keyword</th>\n",
       "      <th>location</th>\n",
       "      <th>text</th>\n",
       "      <th>target</th>\n",
       "    </tr>\n",
       "  </thead>\n",
       "  <tbody>\n",
       "    <tr>\n",
       "      <th>0</th>\n",
       "      <td>1</td>\n",
       "      <td>NaN</td>\n",
       "      <td>NaN</td>\n",
       "      <td>Our Deeds are the Reason of this #earthquake M...</td>\n",
       "      <td>1</td>\n",
       "    </tr>\n",
       "    <tr>\n",
       "      <th>1</th>\n",
       "      <td>4</td>\n",
       "      <td>NaN</td>\n",
       "      <td>NaN</td>\n",
       "      <td>Forest fire near La Ronge Sask. Canada</td>\n",
       "      <td>1</td>\n",
       "    </tr>\n",
       "    <tr>\n",
       "      <th>2</th>\n",
       "      <td>5</td>\n",
       "      <td>NaN</td>\n",
       "      <td>NaN</td>\n",
       "      <td>All residents asked to 'shelter in place' are ...</td>\n",
       "      <td>1</td>\n",
       "    </tr>\n",
       "    <tr>\n",
       "      <th>3</th>\n",
       "      <td>6</td>\n",
       "      <td>NaN</td>\n",
       "      <td>NaN</td>\n",
       "      <td>13,000 people receive #wildfires evacuation or...</td>\n",
       "      <td>1</td>\n",
       "    </tr>\n",
       "    <tr>\n",
       "      <th>4</th>\n",
       "      <td>7</td>\n",
       "      <td>NaN</td>\n",
       "      <td>NaN</td>\n",
       "      <td>Just got sent this photo from Ruby #Alaska as ...</td>\n",
       "      <td>1</td>\n",
       "    </tr>\n",
       "    <tr>\n",
       "      <th>...</th>\n",
       "      <td>...</td>\n",
       "      <td>...</td>\n",
       "      <td>...</td>\n",
       "      <td>...</td>\n",
       "      <td>...</td>\n",
       "    </tr>\n",
       "    <tr>\n",
       "      <th>7608</th>\n",
       "      <td>10869</td>\n",
       "      <td>NaN</td>\n",
       "      <td>NaN</td>\n",
       "      <td>Two giant cranes holding a bridge collapse int...</td>\n",
       "      <td>1</td>\n",
       "    </tr>\n",
       "    <tr>\n",
       "      <th>7609</th>\n",
       "      <td>10870</td>\n",
       "      <td>NaN</td>\n",
       "      <td>NaN</td>\n",
       "      <td>@aria_ahrary @TheTawniest The out of control w...</td>\n",
       "      <td>1</td>\n",
       "    </tr>\n",
       "    <tr>\n",
       "      <th>7610</th>\n",
       "      <td>10871</td>\n",
       "      <td>NaN</td>\n",
       "      <td>NaN</td>\n",
       "      <td>M1.94 [01:04 UTC]?5km S of Volcano Hawaii. htt...</td>\n",
       "      <td>1</td>\n",
       "    </tr>\n",
       "    <tr>\n",
       "      <th>7611</th>\n",
       "      <td>10872</td>\n",
       "      <td>NaN</td>\n",
       "      <td>NaN</td>\n",
       "      <td>Police investigating after an e-bike collided ...</td>\n",
       "      <td>1</td>\n",
       "    </tr>\n",
       "    <tr>\n",
       "      <th>7612</th>\n",
       "      <td>10873</td>\n",
       "      <td>NaN</td>\n",
       "      <td>NaN</td>\n",
       "      <td>The Latest: More Homes Razed by Northern Calif...</td>\n",
       "      <td>1</td>\n",
       "    </tr>\n",
       "  </tbody>\n",
       "</table>\n",
       "<p>7613 rows × 5 columns</p>\n",
       "</div>"
      ],
      "text/plain": [
       "         id keyword location  \\\n",
       "0         1     NaN      NaN   \n",
       "1         4     NaN      NaN   \n",
       "2         5     NaN      NaN   \n",
       "3         6     NaN      NaN   \n",
       "4         7     NaN      NaN   \n",
       "...     ...     ...      ...   \n",
       "7608  10869     NaN      NaN   \n",
       "7609  10870     NaN      NaN   \n",
       "7610  10871     NaN      NaN   \n",
       "7611  10872     NaN      NaN   \n",
       "7612  10873     NaN      NaN   \n",
       "\n",
       "                                                   text  target  \n",
       "0     Our Deeds are the Reason of this #earthquake M...       1  \n",
       "1                Forest fire near La Ronge Sask. Canada       1  \n",
       "2     All residents asked to 'shelter in place' are ...       1  \n",
       "3     13,000 people receive #wildfires evacuation or...       1  \n",
       "4     Just got sent this photo from Ruby #Alaska as ...       1  \n",
       "...                                                 ...     ...  \n",
       "7608  Two giant cranes holding a bridge collapse int...       1  \n",
       "7609  @aria_ahrary @TheTawniest The out of control w...       1  \n",
       "7610  M1.94 [01:04 UTC]?5km S of Volcano Hawaii. htt...       1  \n",
       "7611  Police investigating after an e-bike collided ...       1  \n",
       "7612  The Latest: More Homes Razed by Northern Calif...       1  \n",
       "\n",
       "[7613 rows x 5 columns]"
      ]
     },
     "execution_count": 48,
     "metadata": {},
     "output_type": "execute_result"
    }
   ],
   "source": [
    "train_df=pd.read_csv(\"C:\\\\Users\\\\Chike\\\\Documents\\\\Projects\\\\twitter-disaster-prediction\\\\data\\\\raw\\\\train.csv\")\n",
    "train_df"
   ]
  },
  {
   "cell_type": "code",
   "execution_count": 49,
   "id": "e98cda58",
   "metadata": {},
   "outputs": [
    {
     "name": "stderr",
     "output_type": "stream",
     "text": [
      "<ipython-input-49-24954376e5bf>:3: FutureWarning: The default value of regex will change from True to False in a future version.\n",
      "  train_df['clean_text']=train_df['clean_text'].str.replace('\\d+', '')\n",
      "<ipython-input-49-24954376e5bf>:5: FutureWarning: The default value of regex will change from True to False in a future version.\n",
      "  train_df['clean_text']=train_df['clean_text'].str.replace('\\W', ' ')\n"
     ]
    },
    {
     "data": {
      "text/plain": [
       "0            deeds reason earthquake may allah forgive us\n",
       "1                   forest fire near la ronge sask canada\n",
       "2       residents asked shelter place notified officer...\n",
       "3       people receive wildfires evacuation orders cal...\n",
       "4       got sent photo ruby alaska smoke wildfires pou...\n",
       "                              ...                        \n",
       "7608    two giant cranes holding bridge collapse nearb...\n",
       "7609    aria_ahrary thetawniest control wild fires cal...\n",
       "7610                                utc km volcano hawaii\n",
       "7611    police investigating e bike collided car littl...\n",
       "7612    latest homes razed northern california wildfir...\n",
       "Name: clean_text, Length: 7613, dtype: object"
      ]
     },
     "execution_count": 49,
     "metadata": {},
     "output_type": "execute_result"
    }
   ],
   "source": [
    "train_df['clean_text']=train_df['text'].apply(lambda x: re.split('https:\\/\\/.*', str(x))[0])\n",
    "train_df['clean_text']=train_df['clean_text'].apply(lambda x: re.split('http:\\/\\/.*', str(x))[0])\n",
    "train_df['clean_text']=train_df['clean_text'].str.replace('\\d+', '')\n",
    "train_df['clean_text']=train_df['clean_text'].str.lower()\n",
    "train_df['clean_text']=train_df['clean_text'].str.replace('\\W', ' ')\n",
    "train_df['clean_text']=[' '.join([w for w in x.lower().split() if w not in stop]) for x in train_df['clean_text'].tolist()]\n",
    "\n",
    "\n",
    "train_df.clean_text"
   ]
  },
  {
   "cell_type": "code",
   "execution_count": 50,
   "id": "fba5c4bc",
   "metadata": {
    "scrolled": true
   },
   "outputs": [
    {
     "data": {
      "text/plain": [
       "0            deeds reason earthquake may allah forgive us\n",
       "1                   forest fire near la ronge sask canada\n",
       "2       residents asked shelter place notified officer...\n",
       "3       people receive wildfires evacuation orders cal...\n",
       "4       got sent photo ruby alaska smoke wildfires pou...\n",
       "                              ...                        \n",
       "7608    two giant cranes holding bridge collapse nearb...\n",
       "7609    aria_ahrary thetawniest control wild fires cal...\n",
       "7610                                utc km volcano hawaii\n",
       "7611    police investigating e bike collided car littl...\n",
       "7612    latest homes razed northern california wildfir...\n",
       "Name: clean_text, Length: 7613, dtype: object"
      ]
     },
     "execution_count": 50,
     "metadata": {},
     "output_type": "execute_result"
    }
   ],
   "source": [
    "train_df.clean_text"
   ]
  },
  {
   "cell_type": "code",
   "execution_count": 58,
   "id": "cc311736",
   "metadata": {
    "scrolled": true
   },
   "outputs": [
    {
     "name": "stdout",
     "output_type": "stream",
     "text": [
      "Word2Vec(vocab=2567, size=100, alpha=0.025)\n",
      "['reason', 'earthquake', 'may', 'allah', 'us', 'forest', 'fire', 'near', 'la', 'canada', 'residents', 'asked', 'shelter', 'place', 'officers', 'evacuation', 'orders', 'expected', 'people', 'wildfires', 'california', 'got', 'sent', 'photo', 'alaska', 'smoke', 'school', 'update', 'hwy', 'closed', 'due', 'lake', 'county', 'flood', 'disaster', 'heavy', 'rain', 'causes', 'flash', 'flooding', 'streets', 'colorado', 'springs', 'areas', 'top', 'hill', 'see', 'emergency', 'happening', 'building', 'across', 'street', 'afraid', 'tornado', 'coming', 'area', 'three', 'died', 'heat', 'wave', 'far', 'haha', 'south', 'getting', 'wait', 'second', 'live', 'gonna', 'florida', 'days', 'lost', 'myanmar', 'arrived', 'damage', 'bus', 'car', 'crash', 'breaking', 'man', 'love', 'summer', 'lovely', 'fast', 'london', 'cool', 'wonderful', 'day', 'way', 'eat', 'shit', 'nyc', 'last', 'week', 'girlfriend', 'like', 'end', 'markets', 'ablaze', 'always', 'try', 'bring', 'metal', 'rt', 'news', 'flag', 'set', 'aba', 'crying', 'plus', 'side', 'look', 'sky', 'night', 'built', 'much', 'around', 'new', 'doubt', 'season', 'office', 'ûò', 'two', 'cars', 'santa', 'cruz', 'ûó', 'head', 'st', 'police', 'lord', 'check', 'outside', 'alive', 'dead', 'inside', 'awesome', 'time', 'site', 'thanks', 'taking', 'care', 'wanted', 'chicago', 'hotel', 'gained', 'followers', 'know', 'grow', 'west', 'burned', 'thousands', 'alone', 'perfect', 'life', 'leave', 'first', 'quite', 'weird', 'better', 'get', 'used', 'every', 'single', 'next', 'year', 'least', 'shot', 'home', 'wife', 'six', 'years', 'setting', 'r', 'arsonist', 'black', 'church', 'north', 'el', 'happy', 'training', 'hard', 'later', 'others', 'front', 'truck', 'ave', 'hearts', 'city', 'upon', 'û_', 'tonight', 'ig', 'sunset', 'shots', 'videos', 'means', 'mac', 'route', 'month', 'students', 'would', 'amp', 'secret', 'k', 'fallen', 'steve', 'fires', 'something', 'else', 'nowplaying', 'huge', 'talk', 'go', 'make', 'work', 'kids', 'cuz', 'accident', 'michael', 'father', 'w', 'traffic', 'moving', 'usual', 'center', 'lane', 'blocked', 'great', 'america', '', 'among', 'teen', 'accidents', 'reported', 'motor', 'vehicle', 'rd', 'involving', 'please', 'use', 'mile', 'pm', 'sleeping', 'double', 'risk', 'knew', 'happen', 'n', 'av', 'scene', 'owner', 'mom', 'horrible', 'past', 'sunday', 'finally', 'able', 'thank', 'god', 'tell', 'another', 'sr', 'motorcyclist', 'dies', 'crossed', 'motorcycle', 'rider', 'fyi', 'property', 'dr', 'onto', 'mma', 'turned', 'everyone', 'left', 'manchester', 'stop', 'back', 'th', 'injury', 'fatal', 'blocking', 'right', 'lanes', 'exit', 'consider', 'nc', 'help', 'support', 'plans', 'going', 'treatment', 'deadly', 'happened', 'today', 'details', 'even', 'fucking', 'drive', 'road', 'killed', 'explosion', 'still', 'heard', 'comment', 'issue', 'ps', 'game', 'effort', 'gets', 'win', 'ir', 'icemoon', 'aftershock', 'victory', 'bargain', 'prices', 'david', 'nobody', 'came', 'im', 'someone', 'using', 'also', 'conflict', 'thomas', 'shooting', 'guess', 'one', 'actually', 'wants', 'free', 'best', 'ever', 'seeing', 'issues', 'minute', 'daily', 'could', 'really', 'many', 'already', 'protect', 'profit', 'global', 'financial', 'meltdown', 'moment', 'scary', 'guy', 'behind', 'screaming', 'bloody', 'murder', 'full', 'youtube', 'gt', 'book', 'sometimes', 'face', 'wrong', 'thing', 'dream', 'possible', 'brown', 'tells', 'remembering', 'die', 'avoid', 'trap', 'thinking', 'lose', 'jobs', 'tried', 'orange', 'never', 'bb', 'kick', 'want', 'making', 'say', 'cannot', 'done', 'george', 'anyone', 'need', 'p', 'u', 'play', 'experts', 'france', 'begin', 'examining', 'airplane', 'debris', 'found', 'reunion', 'island', 'french', 'air', 'pilot', 'error', 'common', 'dying', 'good', 'job', 'family', 'members', 'bin', 'laden', 'gov', 'suspect', 'goes', 'wings', 'mexico', 'july', 'four', 'men', 'including', 'state', 'government', 'official', 'wednesday', 'began', 'rip', 'almost', 'mode', 'might', 'wreck', 'politics', 'insane', 'airport', 'aircraft', 'runway', 'plane', 'festival', 'brazil', 'exp', 'û', 'wtf', 'ûªt', 'believe', 'eyes', 'victim', 'crashed', 'times', 'ago', 'little', 'bit', 'trauma', 'omg', 'bro', 'g', 'phone', 'looks', 'ship', 'terrible', 'cop', 'crashes', 'house', 'drone', 'cause', 'pilots', 'worried', 'close', 'early', 'wake', 'call', 'sister', 'come', 'ambulance', 'hospital', 'serious', 'twelve', 'feared', 'pakistani', 'helicopter', 'reuters', 'leading', 'services', 'boss', 'charity', 'incident', 'automatic', 'choice', 'compliant', 'ebay', 'target', 'destroy', 'blood', 'crazy', 'fights', 'couple', 'run', 'lucky', 'waiting', 'ok', 'pakistan', 'kills', 'nine', 'medical', 'ems', 'ny', 'petition', 'hour', 'ûª', 'lot', 'said', 'lt', 'ûï', 'dog', 'sirens', 'number', 'body', 'surprised', 'practice', 'trust', 'j', 'walk', 'passing', 'hate', 'episode', 'annihilated', 'nigga', 'shall', 'baseball', 'mets', 'hey', 'meeting', 'indeed', 'ended', 'career', 'status', 'education', 'easy', 'everything', 'un', 'sorry', 'pulls', 'drunk', 'driver', 'safety', 'seconds', 'hit', 'train', 'must', 'country', 'h', 'well', 'sure', 'israel', 'horror', 'iran', 'since', 'spent', 'history', 'became', 'aware', 'whole', 'humanity', 'went', 'fact', 'stopped', 'quickly', 'short', 'ball', 'hunters', 'ready', 'weather', 'thought', 'forecast', 'feat', 'seen', 'officially', 'thus', 'case', 'completely', 'paul', 'survivors', 'project', 'exactly', 'match', 'syrian', 'army', 'gang', 'pile', 'food', 'bc', 'fun', 'bar', 'hell', 'total', 'annihilation', 'destruction', 'usa', 'potus', 'maybe', 'pres', 'river', 'national', 'park', 'tonto', 'salt', 'wild', 'horse', 'world', 'vs', 'self', 'sign', 'share', 'save', 'horses', 'without', 'change', 'org', 'thx', 'mention', 'major', 'take', 'stand', 'voice', 'laws', 'false', 'jeb', 'less', 'hours', 'away', 'allow', 'sing', 'long', 'order', 'books', 'join', 'following', 'zone', 'fight', 'soon', 'survive', 'apocalypse', 'feels', 'poor', 'boy', 'child', 'birthday', 'watch', 'charlie', 'human', 'film', 'august', 'red', 'zombie', 'feel', 'pull', 'kinda', 'hot', 'played', 'radio', 'disease', 'started', 'careful', 'lol', 'question', 'called', 'version', 'block', 'mod', 'begins', 'snow', 'reading', 'spirit', 'angel', 'took', 'high', 'mountain', 'imagine', 'fighting', 'heart', 'liked', 'video', 'planet', 'dad', 'bought', 'science', 'read', 'comes', 'beginning', 'movie', 'scared', 'storm', 'latest', 'x', 'totally', 'give', 'bad', 'name', 'dark', 'queen', 'shadow', 'action', 'attack', 'clean', 'armageddon', 'kill', 'peace', 'bed', 'unless', 'start', 'series', 'romance', 'beat', 'ben', 'girls', 'loved', 'hand', 'sense', 'door', 'data', 'mining', 'blog', 'based', 'taste', 'luck', 'tomorrow', 'points', 'justice', 'department', 'tax', 'yrs', 'putin', 'warning', 'late', 'escape', 'heavenly', 'rule', 'earth', 'l', 'b', 'entertainment', 'movies', 'let', 'ûªs', 'stage', 'prepared', 'toddler', 'library', 'collection', 'survival', 'yesterday', 'saw', 'hail', 'think', 'sadly', 'windows', 'averted', 'ww', 'extremely', 'till', 'christmas', 'christians', 'united', 'working', 'class', 'prepare', 'crisis', 'part', 'economic', 'collapse', 'tracks', 'lights', 'funny', 'staff', 'fingers', 'beyonce', 'pick', 'direction', 'slightly', 'build', 'lead', 'rally', 'children', 'vote', 'round', 'dogs', 'leader', 'lion', 'show', 'hero', 'tv', 'review', 'sport', 'blue', 'rea', 'date', 'women', 'rubber', 'indian', 'da', 'mtvhottest', 'jackson', 'hope', 'leads', 'wwii', 'japanese', 'navy', 'military', 'japan', 'leather', 'war', 'mido', 'learn', 'ap', 'violent', 'control', 'jewish', 'terrorists', 'charged', 'arson', 'ugly', 'truth', 'authorities', 'cases', 'add', 'squad', 'fake', 'crime', 'burn', 'linked', 'caught', 'northern', 'mourning', 'notices', 'stabbing', 'victims', 'stir', 'grief', 'sound', 'gay', 'admits', 'scheme', 'trial', 'death', 'palestinian', 'amid', 'kisii', 'hunt', 'failed', 'plot', 'girl', 'tennessee', 'destroyed', 'white', 'alleged', 'east', 'bay', 'arrested', 'suspected', 'calif', 'legal', 'system', 'anything', 'nice', 'sit', 'shows', 'captures', 'american', 'beach', 'ca', 'burning', 'things', 'makes', 'town', 'salem', 'ice', 'blamed', 'blaze', 'business', 'reports', 'lmfao', 'cant', 'moves', 'fuck', 'drink', 'green', 'court', 'lmao', 'real', 'hiring', 'terrorism', 'big', 'true', 'story', 'missing', 'stay', 'civil', 'tbt', 'terror', 'post', 'udhampur', 'million', 'nuclear', 'warnings', 'claims', 'suicide', 'bombing', 'saudi', 'mosque', 'twitter', 'feminists', 'muslim', 'italy', 'militants', 'theater', 'spos', 'injured', 'obama', 'officials', 'gave', 'terrorist', 'weapon', 'texas', 'israeli', 'forces', 'raid', 'worry', 'okay', 'lie', 'senior', 'diamond', 'shift', 'ii', 'machine', 'yet', 'response', 'yeah', 'theatre', 'homeless', 'damn', 'india', 'evidence', 'pak', 'illegal', 'released', 'rape', 'maria', 'woman', 'team', 'act', 'trying', 'nashville', 'gun', 'atomic', 'bombs', 'fat', 'says', 'group', 'gop', 'yay', 'attacked', 'feeling', 'female', 'somehow', 'claim', 'media', 'civilians', 'gaza', 'greece', 'christian', 'muslims', 'temple', 'mount', 'waving', 'via', 'pamela', 'geller', 'unit', 'responsible', 'youth', 'southern', 'remember', 'literally', 'families', 'abuse', 'worst', 'person', 'guys', 'trump', 'view', 'needs', 'answer', 'tweets', 'program', 'flew', 'mine', 'fukushima', 'student', 'avalanche', 'defense', 'louis', 'v', 'row', 'bet', 'didnt', 'box', 'piece', 'upper', 'made', 'album', 'covers', 'music', 'beautiful', 'sweet', 'lots', 'calgary', 'flames', 'secrets', 'inner', 'worth', 'fall', 'leaves', 'fully', 'original', 'em', 'fuel', 'gas', 'driving', 'tank', 'deal', 'q', 'google', 'yo', 'incredible', 'wd', 'star', 'wars', 'power', 'battle', 'general', 'nd', 'signed', 'dragon', 'z', 'added', 'playlist', 'ya', 'clip', 'hughes', 'ending', 'hits', 'eye', 'space', 'occurred', 'fleets', 'totaling', 'ships', 'taken', 'king', 'trailer', 'hole', 'happens', 'internal', 'external', 'young', 'german', 'attention', 'mass', 'games', 'playing', 'australia', 'miss', 'son', 'electronic', 'fedex', 'longer', 'transport', 'bioterror', 'germs', 'anthrax', 'lab', 'mishaps', 'pathogens', 'stops', 'shipping', 'potential', 'responds', 'certain', 'research', 'faced', 'cut', 'foxnews', 'energy', 'hold', 'hearing', 'problem', 'fear', 'bioterrorism', 'sir', 'carry', 'f', 'usagov', 'auth', 'hostage', 'blk', 'id', 'cover', 'keep', 'public', 'health', 'security', 'climate', 'wealth', 'yea', 'lies', 'cia', 'hollywood', 'daughter', 'ft', 'aka', 'extra', 'yes', 'needed', 'preparedness', 'drill', 'running', 'pretty', 'list', 'concerned', 'gm', 'special', 'ebola', 'future', 'abc', 'irandeal', 'activity', 'broken', 'threat', 'fears', 'ahead', 'olympic', 'test', 'event', 'pool', 'looking', 'move', 'niggas', 'wanna', 'tour', 'welcome', 'living', 'dutch', 'hair', 'poverty', 'weekend', 'losses', 'wildfire', 'nearly', 'old', 'firefighters', 'battling', 'covered', 'months', 'americans', 'ugh', 'put', 'calories', 'pic', 'fort', 'writing', 'computers', 'mad', 'dont', 'weeks', 'facebook', 'page', 'seek', 'experience', 'tweet', 'fail', 'promise', 'huh', 'sale', 'palms', 'guns', 'c', 'blazing', 'party', 'silver', 'dollar', 'ms', 'grade', 'bowl', 'nothing', 'online', 'turn', 'inch', 'weapons', 'expect', 'lady', 'oh', 'roof', 'fifth', 'spanish', 'word', 'cold', 'enough', 'degree', 'mid', 'sun', 'rn', 'bullets', 'words', 'fan', 'beyond', 'blessed', 'dude', 'respect', 'fantasy', 'bag', 'song', 'rare', 'proof', 'complete', 'giving', 'bitch', 'cake', 'throwing', 'follow', 'physical', 'ways', 'bleeding', 'joe', 'nose', 'written', 'text', 'allowed', 'apparently', 'fine', 'walking', 'hands', 'tears', 'foot', 'glass', 'pain', 'feet', 'cute', 'starts', 'violence', 'fell', 'characters', 'brain', 'lets', 'apartment', 'hes', 'kicked', 'wedding', 'blew', 'bomb', 'active', 'line', 'instagram', 'entire', 'solar', 'cup', 'wont', 'pulled', 'told', 'universe', 'max', 'fired', 'realized', 'brought', 'wind', 'mentions', 'everywhere', 'ray', 'light', 'skin', 'talking', 'kid', 'watched', 'economy', 'recommend', 'falling', 'sean', 'blight', 'theres', 'ones', 'reward', 'soul', 'searching', 'jack', 'agree', 'deep', 'roads', 'load', 'loving', 'society', 'bank', 'info', 'anti', 'housing', 'releases', 'level', 'sexual', 'result', 'app', 'community', 'policy', 'report', 'lands', 'open', 'actual', 'tragedy', 'shame', 'article', 'metro', 'estimate', 'miles', 'art', 'wins', 'card', 'amazon', 'buy', 'blizzard', 'pay', 'cream', 'hi', 'rolling', 'though', 'peanut', 'butter', 'updated', 'ideas', 'holy', 'leaving', 'clutch', 'link', 'bout', 'tho', 'thoughts', 'market', 'technology', 'biggest', 'paper', 'bruh', 'nah', 'cook', 'gone', 'wall', 'dance', 'floor', 'broke', 'morning', 'ah', 'hurts', 'treat', 'stars', 'associated', 'friend', 'wounded', 'headed', 'mean', 'smh', 'pressure', 'standard', 'large', 'related', 'super', 'seriously', 'drug', 'drown', 'somebody', 'gotta', 'winds', 'sad', 'rock', 'roll', 'jesus', 'runs', 'personal', 'include', 'land', 'se', 'lightning', 'everyday', 'listening', 'awful', 'stephen', 'russia', 'looked', 'dare', 'mary', 'tired', 'effects', 'low', 'floyd', 'money', 'hello', 'meet', 'rs', 'friday', 'supposed', 'arms', 'sitting', 'killer', 'williams', 'steel', 'rather', 'blown', 'wow', 'club', 'fucked', 'player', 'woke', 'probably', 'strike', 'ur', 'mini', 'flying', 'soldiers', 'mind', 'shop', 'glad', 'half', 'ûªve', 'photos', 'watching', 'ladies', 'seat', 'toilet', 'al', 'ass', 'shoulder', 'tote', 'handbag', 'cross', 'faux', 'fashion', 'purse', 'republicans', 'handbags', 'buffalo', 'å', 'vuitton', 'monogram', 'limited', 'edition', 'along', 'hip', 'hobo', 'womens', 'find', 'satchel', 'style', 'tablet', 'saying', 'bagging', 'rose', 'smoking', 'drake', 'meek', 'killing', 'tea', 'point', 'league', 'tough', 'philly', 'missed', 'straight', 'bitches', 'together', 'enjoy', 'definitely', 'track', 'ep', 'spot', 'mill', 'patient', 'record', 'window', 'kept', 'hop', 'dangerous', 'bags', 'appears', 'pack', 'fruit', 'firefighter', 'putting', 'football', 'small', 'russian', 'va', 'calls', 'send', 'middle', 'giant', 'colour', 'pics', 'bigger', 'congress', 'drinking', 'investigating', 'washington', 'sports', 'coffee', 'listen', 'comments', 'picture', 'hiroshima', 'dropped', 'guardian', 'legacy', 'fantastic', 'anyway', 'knows', 'documents', 'gunman', 'carrying', 'marks', 'board', 'baby', 'mail', 'known', 'pray', 'idea', 'impact', 'flat', 'thursday', 'anniversary', 'hatchet', 'pepper', 'oops', 'coast', 'amazing', 'e', 'bombed', 'centre', 'bluejays', 'countries', 'libya', 'africa', 'islamic', 'syria', 'turkey', 'ground', 'jet', 'main', 'forget', 'turkish', 'village', 'bathroom', 'yr', 'within', 'generation', 'democracy', 'cos', 'germany', 'pre', 'hopefully', 'afghanistan', 'traditional', 'according', 'pkk', 'pass', 'ends', 'cities', 'states', 'worse', 'hurricane', 'mission', 'schedule', 'bells', 'toll', 'plan', 'bridge', 'ashes', 'trent', 'england', 'central', 'reminds', 'five', 'natural', 'cranes', 'holding', 'nearby', 'homes', 'epic', 'aug', 'australian', 'throw', 'fox', 'mp', 'distance', 'stuff', 'currently', 'likely', 'buildings', 'rescuers', 'upset', 'businesses', 'cops', 'etc', 'register', 'lives', 'matter', 'stealing', 'protest', 'greatest', 'babies', 'rocky', 'threatening', 'maintenance', 'rioting', 'looting', 'often', 'western', 'strikes', 'riot', 'nation', 'losing', 'sinking', 'outrage', 'saving', 'gbbo', 'explode', 'afternoon', 'equipment', 'grateful', 'hazard', 'non', 'burns', 'blows', 'destroys', 'multiple', 'downtown', 'ross', 'several', 'write', 'seven', 'different', 'houses', 'vehicles', 'rise', 'insurance', 'co', 'tips', 'remains', 'alarm', 'residential', 'camp', 'displaced', 'confirm', 'brother', 'acres', 'progress', 'content', 'shower', 'moon', 'cheese', 'plate', 'riots', 'fr', 'minutes', 'mph', 'twice', 'clothes', 'crap', 'wish', 'complex', 'social', 'degrees', 'pro', 'bike', 'sparked', 'yall', 'favorite', 'wired', 'questions', 'john', 'except', 'idk', 'keeps', 'mountains', 'caused', 'desire', 'boat', 'memories', 'apply', 'parents', 'acts', 'press', 'conference', 'understand', 'tickets', 'accidentally', 'planned', 'parenthood', 'stone', 'store', 'sounds', 'hear', 'ppl', 'sex', 'magic', 'amongst', 'ruin', 'saved', 'causing', 'ran', 'port', 'cancer', 'chinese', 'express', 'stupid', 'bush', 'safe', 'ted', 'drought', 'seems', 'traumatised', 'holiday', 'swimming', 'water', 'wet', 'catastrophic', 'service', 'crews', 'evacuate', 'affected', 'asap', 'casualties', 'reduce', 'civilian', 'calling', 'ban', 'evil', 'afghan', 'sees', 'sharp', 'levels', 'account', 'laughing', 'operation', 'fix', 'reach', 'purple', 'confirmed', 'warns', 'iranian', 'highest', 'derailment', 'casualty', 'commercial', 'ocean', 'gray', 'population', 'pacific', 'rate', 'quality', 'become', 'arsenal', 'chance', 'tag', 'industry', 'september', 'telling', 'nytimes', 'strong', 'insurers', 'nuke', 'millions', 'mix', 'agreed', 'catastrophe', 'joy', 'suffering', 'continue', 'failure', 'opens', 'iphone', 'ultimate', 'prevent', 'political', 'prime', 'company', 'repair', 'emotional', 'mother', 'lorries', 'denver', 'field', 'hilarious', 'ceo', 'results', 'anymore', 'bottom', 'friends', 'bbc', 'becomes', 'vegas', 'learning', 'eruption', 'takes', 'nagasaki', 'bombings', 'felt', 'iraq', 'replace', 'wearing', 'british', 'debt', 'audio', 'stream', 'clear', 'hazardous', 'chemical', 'management', 'brothers', 'units', 'simulate', 'nu', 'biological', 'md', 'companies', 'operations', 'collapsed', 'instead', 'harm', 'spill', 'opening', 'seattle', 'respond', 'pipe', 'alert', 'cleanup', 'situation', 'hungry', 'responders', 'pop', 'cliff', 'manager', 'china', 'bride', 'sleep', 'snap', 'streak', 'lil', 'trip', 'landslide', 'lower', 'ha', 'revealed', 'visit', 'easily', 'internet', 'blow', 'option', 'vinyl', 'interview', 'actions', 'trapped', 'tent', 'continues', 'absolutely', 'loves', 'images', 'min', 'correction', 'president', 'oil', 'price', 'ks', 'bake', 'dorret', 'chocolate', 'jan', 'angry', 'burst', 'lungs', 'coaches', 'course', 'tongue', 'forced', 'animal', 'officer', 'fav', 'cost', 'considering', 'waves', 'collide', 'worlds', 'thunderstorm', 'singing', 'fill', 'sat', 'kindle', 'powerful', 'buses', 'åê', 'either', 'simple', 'cyclist', 'collided', 'none', 'ask', 'injuries', 'force', 'quest', 'gold', 'rains', 'trains', 'highway', 'towards', 'driven', 'heads', 'rescued', 'dan', 'hurt', 'san', 'room', 'bicyclist', 'justinbieber', 'restore', 'collision', 'broadway', 'local', 'sac', 'blvd', 'trfc', 'inj', 'rear', 'starting', 'valley', 'cleared', 'bodies', 'warned', 'fwy', 'delays', 'fans', 'guide', 'mansehra', 'avoiding', 'microlight', 'landing', 'remove', 'pump', 'uk', 'mh', 'sea', 'asking', 'bear', 'loss', 'persons', 'honestly', 'places', 'mhtwfnet', 'crush', 'vine', 'crushed', 'clearly', 'cable', 'shares', 'disney', 'km', 'gps', 'character', 'dc', 'curfew', 'fighters', 'aim', 'attacks', 'shut', 'campus', 'stuck', 'foxtrot', 'blind', 'final', 'decided', 'freedom', 'di', 'judge', 'cyclone', 'ten', 'annual', 'tropical', 'de', 'pam', 'severe', 'typhoon', 'soudelor', 'issued', 'calm', 'tom', 'given', 'address', 'maximum', 'delivers', 'rohingya', 'region', 'damaged', 'drop', 'knee', 'solution', 'phoenix', 'deals', 'af', 'tree', 'falls', 'offer', 'np', 'isis', 'cry', 'ar', 'wounds', 'danger', 'changes', 'union', 'release', 'blast', 'dry', 'thunderstorms', 'fish', 'govt', 'especially', 'diving', 'spider', 'rest', 'rights', 'law', 'emmerdale', 'named', 'hundreds', 'migrant', 'capsizes', 'rescue', 'debate', 'study', 'download', 'mikeparractor', 'taiwan', 'summerfate', 'boys', 'forever', 'adult', 'plague', 'ferguson', 'predicted', 'legionnaires', 'rises', 'deaths', 'resistant', 'usually', 'focus', 'lunch', 'earlier', 'signs', 'minister', 'arabia', 'increased', 'percent', 'walmart', 'steps', 'pls', 'uses', 'malaysia', 'airlines', 'flight', 'discovered', 'confirms', 'rì', 'york', 'relatives', 'malaysian', 'interesting', 'deluge', 'nature', 'feed', 'floods', 'workers', 'wa', 'stock', 'truly', 'owners', 'posts', 'heaven', 'evening', 'stories', 'search', 'deluged', 'invoices', 'shape', 'image', 'quiz', 'republican', 'moved', 'migrants', 'patience', 'intensity', 'strategy', 'demolish', 'enugu', 'structures', 'international', 'radar', 'zionist', 'ex', 'articles', 'root', 'xd', 'whether', 'demolished', 'spring', 'former', 'kidnapped', 'election', 'demolition', 'michigan', 'grill', 'med', 'kit', 'kaduna', 'mr', 'enemy', 'derail', 'destiny', 'blessings', 'wmata', 'remain', 'rail', 'madhya', 'pradesh', 'mumbai', 'tubestrike', 'mood', 'smithsonian', 'campaign', 'dozens', 'italian', 'recovery', 'derailed', 'updates', 'subject', 'sw', 'passengers', 'wash', 'passenger', 'chief', 'mt', 'relief', 'mess', 'cnn', 'wonder', 'freakiest', 'freak', 'struck', 'sentinel', 'helping', 'charge', 'tube', 'desolate', 'shepherd', 'gotten', 'desolation', 'hobbit', 'smaug', 'loose', 'break', 'panic', 'trouble', 'effect', 'loop', 'multiplayer', 'path', 'crackdown', 'tryna', 'catch', 'swim', 'emotionally', 'reportedly', 'survived', 'size', 'stuart', 'broad', 'plant', 'banned', 'border', 'user', 'detonate', 'antioch', 'apollo', 'touch', 'message', 'ignition', 'knock', 'detonation', 'sensor', 'senso', 'electrical', 'devastated', 'jam', 'declares', 'saipan', 'declaration', 'worldnews', 'marians', 'abcnews', 'ûªm', 'devastation', 'struggles', 'wrought', 'mediterranean', 'return', 'cinema', 'insurer', 'lack', 'emotions', 'quote', 'van', 'sittwe', 'strategicpatience', 'genocide', 'refugees', 'idp', 'internally', 'nema', 'opened', 'museum', 'philippines', 'township', 'extreme', 'weed', 'rapidly', 'bringing', 'pussy', 'loud', 'created', 'memory', 'information', 'drowned', 'tracking', 'surprise', 'drowning', 'grace', 'trees', 'costs', 'dust', 'create', 'gusts', 'thunder', 'sismo', 'utc', 'seismic', 'sicily', 'users', 'usgs', 'anchorage', 'oklahoma', 'volcano', 'hawaii', 'jst', 'electrocute', 'animals', 'unlocked', 'charging', 'computer', 'senator', 'electrocuted', 'elephant', 'map', 'plug', 'wondering', 'worked', 'cat', 'cree', 'type', 'english', 'fund', 'teams', 'activated', 'municipal', 'sick', 'vets', 'abstorm', 'yyc', 'thats', 'providence', 'served', 'click', 'veterans', 'access', 'brooklyn', 'budget', 'tsunami', 'normal', 'engulfed', 'parley', 'canyon', 'tribal', 'madinah', 'prophetmuhammad', 'islam', 'travel', 'screamed', 'golf', 'epicentre', 'tram', 'powerlines', 'quick', 'murderous', 'evacuated', 'roosevelt', 'trafford', 'odeon', 'lifted', 'faan', 'abandoned', 'advisory', 'vietnam', 'ridge', 'aid', 'earners', 'ill', 'exploded', 'screen', 'reasons', 'goal', 'warship', 'tempered', 'protector', 'blackberry', 'saturday', 'rocks', 'mental', 'concert', 'button', 'rules', 'eyewitness', 'reddit', 'dramatic', 'investigation', 'heroes', 'dk', 'married', 'crematoria', 'provoke', 'famine', 'poll', 'manslaughter', 'sh', 'investigators', 'fatalities', 'mortal', 'kombat', 'numbers', 'meat', 'estimated', 'cousin', 'projected', 'fatality', 'combined', 'picked', 'drove', 'depth', 'combo', 'structure', 'reno', 'hat', 'maryland', 'mansion', 'rising', 'flattened', 'chest', 'picking', 'statement', 'toward', 'curved', 'led', 'offroad', 'fog', 'lamp', 'socialnews', 'beam', 'coastal', 'trench', 'cdt', 'funds', 'edt', 'nws', 'storms', 'parts', 'unveiled', 'tornadoes', 'approaches', 'itunes', 'apc', 'bayelsa', 'grows', 'massive', 'boston', 'hailstorm', 'gems', 'profile', 'stranded', 'triggered', 'leg', 'battlefield', 'arianagrande', 'outlook', 'hwo', 'portland', 'vulnerable', 'triple', 'hellfire', 'prophet', 'surrounded', 'desires', 'afterlife', 'piling', 'sub', 'tension', 'jonathan', 'hijack', 'pdp', 'criminals', 'nigerian', 'specially', 'governor', 'allows', 'parole', 'hijacker', 'hijacking', 'funtenna', 'sue', 'held', 'threatens', 'wreckage', 'hostages', 'modified', 'stadium', 'sinjar', 'massacre', 'bang', 'guillermo', 'wed', 'scott', 'problems', 'georgia', 'inundated', 'inundation', 'alps', 'lava', 'youngheroesid', 'pantherattack', 'unconfirmed', 'neighbour', 'arrive', 'murderer', 'murdered', 'mayhem', 'disco', 'experiments', 'troops', 'mudslide', 'design', 'executives', 'prosecuted', 'radiation', 'finnish', 'reactor', 'ancient', 'sidelines', 'newest', 'subs', 'obliterate', 'sarah', 'obliterated', 'reduced', 'obliteration', 'canaanites', 'larger', 'refugio', 'costlier', 'plains', 'outbreak', 'disea', 'pandemonium', 'alabama', 'panicking', 'quarantine', 'offensive', 'promises', 'communities', 'founder', 'huffman', 'subreddits', 'quarantined', 'exchange', 'elevated', 'rainstorm', 'yobe', 'rome', 'razed', 'cameroon', 'repatriated', 'structural', 'mediterran', 'decision', 'rubble', 'fresh', 'sandstorm', 'swallowed', 'screams', 'rly', 'exploration', 'gabon', 'somalia', 'seeks', 'sinkhole', 'swallows', 'lowndes', 'disrupts', 'trolley', 'realise', 'siren', 'gunfire', 'snowstorm', 'nasahurricane', 'satellite', 'stretcher', 'invalid', 'towel', 'virgin', 'galactic', 'spaceship', 'brakes', 'bestnaijamade', 'bomber', 'detonated', 'sunk', 'drawn', 'reality', 'naved', 'recount', 'ûïwhen', 'plunging', 'miners', 'chile', 'starring', 'richmond', 'twister', 'upheaval', 'mayan', 'hieroglyphics', 'honors', 'lowly', 'pov', 'amsterdam', 'lethal', 'whirlwind', 'parker', 'windstorm', 'exchanging', 'kerricktrial', 'conclusively', 'wrecked', 'cramer', 'iger']\n"
     ]
    },
    {
     "name": "stderr",
     "output_type": "stream",
     "text": [
      "<ipython-input-58-49a445ac0b86>:8: DeprecationWarning: Call to deprecated `__getitem__` (Method will be removed in 4.0.0, use self.wv.__getitem__() instead).\n",
      "  print(model['sentence'])\n"
     ]
    },
    {
     "ename": "KeyError",
     "evalue": "\"word 'sentence' not in vocabulary\"",
     "output_type": "error",
     "traceback": [
      "\u001b[1;31m---------------------------------------------------------------------------\u001b[0m",
      "\u001b[1;31mKeyError\u001b[0m                                  Traceback (most recent call last)",
      "\u001b[1;32m<ipython-input-58-49a445ac0b86>\u001b[0m in \u001b[0;36m<module>\u001b[1;34m\u001b[0m\n\u001b[0;32m      6\u001b[0m \u001b[0mprint\u001b[0m\u001b[1;33m(\u001b[0m\u001b[0mwords\u001b[0m\u001b[1;33m)\u001b[0m\u001b[1;33m\u001b[0m\u001b[1;33m\u001b[0m\u001b[0m\n\u001b[0;32m      7\u001b[0m \u001b[1;31m# access vector for one word\u001b[0m\u001b[1;33m\u001b[0m\u001b[1;33m\u001b[0m\u001b[1;33m\u001b[0m\u001b[0m\n\u001b[1;32m----> 8\u001b[1;33m \u001b[0mprint\u001b[0m\u001b[1;33m(\u001b[0m\u001b[0mmodel\u001b[0m\u001b[1;33m[\u001b[0m\u001b[1;34m'sentence'\u001b[0m\u001b[1;33m]\u001b[0m\u001b[1;33m)\u001b[0m\u001b[1;33m\u001b[0m\u001b[1;33m\u001b[0m\u001b[0m\n\u001b[0m",
      "\u001b[1;32m~\\Anaconda3\\envs\\bball\\lib\\site-packages\\gensim\\utils.py\u001b[0m in \u001b[0;36mnew_func1\u001b[1;34m(*args, **kwargs)\u001b[0m\n\u001b[0;32m   1459\u001b[0m                     \u001b[0mstacklevel\u001b[0m\u001b[1;33m=\u001b[0m\u001b[1;36m2\u001b[0m\u001b[1;33m\u001b[0m\u001b[1;33m\u001b[0m\u001b[0m\n\u001b[0;32m   1460\u001b[0m                 )\n\u001b[1;32m-> 1461\u001b[1;33m                 \u001b[1;32mreturn\u001b[0m \u001b[0mfunc\u001b[0m\u001b[1;33m(\u001b[0m\u001b[1;33m*\u001b[0m\u001b[0margs\u001b[0m\u001b[1;33m,\u001b[0m \u001b[1;33m**\u001b[0m\u001b[0mkwargs\u001b[0m\u001b[1;33m)\u001b[0m\u001b[1;33m\u001b[0m\u001b[1;33m\u001b[0m\u001b[0m\n\u001b[0m\u001b[0;32m   1462\u001b[0m \u001b[1;33m\u001b[0m\u001b[0m\n\u001b[0;32m   1463\u001b[0m             \u001b[1;32mreturn\u001b[0m \u001b[0mnew_func1\u001b[0m\u001b[1;33m\u001b[0m\u001b[1;33m\u001b[0m\u001b[0m\n",
      "\u001b[1;32m~\\Anaconda3\\envs\\bball\\lib\\site-packages\\gensim\\models\\word2vec.py\u001b[0m in \u001b[0;36m__getitem__\u001b[1;34m(self, words)\u001b[0m\n\u001b[0;32m    930\u001b[0m \u001b[1;33m\u001b[0m\u001b[0m\n\u001b[0;32m    931\u001b[0m         \"\"\"\n\u001b[1;32m--> 932\u001b[1;33m         \u001b[1;32mreturn\u001b[0m \u001b[0mself\u001b[0m\u001b[1;33m.\u001b[0m\u001b[0mwv\u001b[0m\u001b[1;33m.\u001b[0m\u001b[0m__getitem__\u001b[0m\u001b[1;33m(\u001b[0m\u001b[0mwords\u001b[0m\u001b[1;33m)\u001b[0m\u001b[1;33m\u001b[0m\u001b[1;33m\u001b[0m\u001b[0m\n\u001b[0m\u001b[0;32m    933\u001b[0m \u001b[1;33m\u001b[0m\u001b[0m\n\u001b[0;32m    934\u001b[0m     \u001b[1;33m@\u001b[0m\u001b[0mdeprecated\u001b[0m\u001b[1;33m(\u001b[0m\u001b[1;34m\"Method will be removed in 4.0.0, use self.wv.__contains__() instead\"\u001b[0m\u001b[1;33m)\u001b[0m\u001b[1;33m\u001b[0m\u001b[1;33m\u001b[0m\u001b[0m\n",
      "\u001b[1;32m~\\Anaconda3\\envs\\bball\\lib\\site-packages\\gensim\\models\\keyedvectors.py\u001b[0m in \u001b[0;36m__getitem__\u001b[1;34m(self, entities)\u001b[0m\n\u001b[0;32m    351\u001b[0m         \u001b[1;32mif\u001b[0m \u001b[0misinstance\u001b[0m\u001b[1;33m(\u001b[0m\u001b[0mentities\u001b[0m\u001b[1;33m,\u001b[0m \u001b[0mstring_types\u001b[0m\u001b[1;33m)\u001b[0m\u001b[1;33m:\u001b[0m\u001b[1;33m\u001b[0m\u001b[1;33m\u001b[0m\u001b[0m\n\u001b[0;32m    352\u001b[0m             \u001b[1;31m# allow calls like trained_model['office'], as a shorthand for trained_model[['office']]\u001b[0m\u001b[1;33m\u001b[0m\u001b[1;33m\u001b[0m\u001b[1;33m\u001b[0m\u001b[0m\n\u001b[1;32m--> 353\u001b[1;33m             \u001b[1;32mreturn\u001b[0m \u001b[0mself\u001b[0m\u001b[1;33m.\u001b[0m\u001b[0mget_vector\u001b[0m\u001b[1;33m(\u001b[0m\u001b[0mentities\u001b[0m\u001b[1;33m)\u001b[0m\u001b[1;33m\u001b[0m\u001b[1;33m\u001b[0m\u001b[0m\n\u001b[0m\u001b[0;32m    354\u001b[0m \u001b[1;33m\u001b[0m\u001b[0m\n\u001b[0;32m    355\u001b[0m         \u001b[1;32mreturn\u001b[0m \u001b[0mvstack\u001b[0m\u001b[1;33m(\u001b[0m\u001b[1;33m[\u001b[0m\u001b[0mself\u001b[0m\u001b[1;33m.\u001b[0m\u001b[0mget_vector\u001b[0m\u001b[1;33m(\u001b[0m\u001b[0mentity\u001b[0m\u001b[1;33m)\u001b[0m \u001b[1;32mfor\u001b[0m \u001b[0mentity\u001b[0m \u001b[1;32min\u001b[0m \u001b[0mentities\u001b[0m\u001b[1;33m]\u001b[0m\u001b[1;33m)\u001b[0m\u001b[1;33m\u001b[0m\u001b[1;33m\u001b[0m\u001b[0m\n",
      "\u001b[1;32m~\\Anaconda3\\envs\\bball\\lib\\site-packages\\gensim\\models\\keyedvectors.py\u001b[0m in \u001b[0;36mget_vector\u001b[1;34m(self, word)\u001b[0m\n\u001b[0;32m    469\u001b[0m \u001b[1;33m\u001b[0m\u001b[0m\n\u001b[0;32m    470\u001b[0m     \u001b[1;32mdef\u001b[0m \u001b[0mget_vector\u001b[0m\u001b[1;33m(\u001b[0m\u001b[0mself\u001b[0m\u001b[1;33m,\u001b[0m \u001b[0mword\u001b[0m\u001b[1;33m)\u001b[0m\u001b[1;33m:\u001b[0m\u001b[1;33m\u001b[0m\u001b[1;33m\u001b[0m\u001b[0m\n\u001b[1;32m--> 471\u001b[1;33m         \u001b[1;32mreturn\u001b[0m \u001b[0mself\u001b[0m\u001b[1;33m.\u001b[0m\u001b[0mword_vec\u001b[0m\u001b[1;33m(\u001b[0m\u001b[0mword\u001b[0m\u001b[1;33m)\u001b[0m\u001b[1;33m\u001b[0m\u001b[1;33m\u001b[0m\u001b[0m\n\u001b[0m\u001b[0;32m    472\u001b[0m \u001b[1;33m\u001b[0m\u001b[0m\n\u001b[0;32m    473\u001b[0m     \u001b[1;32mdef\u001b[0m \u001b[0mwords_closer_than\u001b[0m\u001b[1;33m(\u001b[0m\u001b[0mself\u001b[0m\u001b[1;33m,\u001b[0m \u001b[0mw1\u001b[0m\u001b[1;33m,\u001b[0m \u001b[0mw2\u001b[0m\u001b[1;33m)\u001b[0m\u001b[1;33m:\u001b[0m\u001b[1;33m\u001b[0m\u001b[1;33m\u001b[0m\u001b[0m\n",
      "\u001b[1;32m~\\Anaconda3\\envs\\bball\\lib\\site-packages\\gensim\\models\\keyedvectors.py\u001b[0m in \u001b[0;36mword_vec\u001b[1;34m(self, word, use_norm)\u001b[0m\n\u001b[0;32m    466\u001b[0m             \u001b[1;32mreturn\u001b[0m \u001b[0mresult\u001b[0m\u001b[1;33m\u001b[0m\u001b[1;33m\u001b[0m\u001b[0m\n\u001b[0;32m    467\u001b[0m         \u001b[1;32melse\u001b[0m\u001b[1;33m:\u001b[0m\u001b[1;33m\u001b[0m\u001b[1;33m\u001b[0m\u001b[0m\n\u001b[1;32m--> 468\u001b[1;33m             \u001b[1;32mraise\u001b[0m \u001b[0mKeyError\u001b[0m\u001b[1;33m(\u001b[0m\u001b[1;34m\"word '%s' not in vocabulary\"\u001b[0m \u001b[1;33m%\u001b[0m \u001b[0mword\u001b[0m\u001b[1;33m)\u001b[0m\u001b[1;33m\u001b[0m\u001b[1;33m\u001b[0m\u001b[0m\n\u001b[0m\u001b[0;32m    469\u001b[0m \u001b[1;33m\u001b[0m\u001b[0m\n\u001b[0;32m    470\u001b[0m     \u001b[1;32mdef\u001b[0m \u001b[0mget_vector\u001b[0m\u001b[1;33m(\u001b[0m\u001b[0mself\u001b[0m\u001b[1;33m,\u001b[0m \u001b[0mword\u001b[0m\u001b[1;33m)\u001b[0m\u001b[1;33m:\u001b[0m\u001b[1;33m\u001b[0m\u001b[1;33m\u001b[0m\u001b[0m\n",
      "\u001b[1;31mKeyError\u001b[0m: \"word 'sentence' not in vocabulary\""
     ]
    }
   ],
   "source": [
    "sentences=[text.split(' ') for text in train_df['clean_text']]\n",
    "model = Word2Vec(sentences, min_count=5,size=100,window=4)\n",
    "print(model)\n",
    "# summarize vocabulary\n",
    "words = list(model.wv.vocab)\n",
    "print(words)\n",
    "# access vector for one word\n",
    "print(model['sentence'])"
   ]
  },
  {
   "cell_type": "code",
   "execution_count": 70,
   "id": "918eca11",
   "metadata": {},
   "outputs": [
    {
     "data": {
      "text/plain": [
       "[('mosque', 1.0028578042984009),\n",
       " ('latest', 1.0028272867202759),\n",
       " ('ladies', 1.0028018951416016),\n",
       " ('damage', 1.0027921199798584),\n",
       " ('electrocuted', 1.0027540922164917),\n",
       " ('suicide', 1.0027501583099365),\n",
       " ('lives', 1.0027445554733276),\n",
       " ('ever', 1.0027443170547485),\n",
       " ('without', 1.0027425289154053),\n",
       " ('big', 1.0027252435684204)]"
      ]
     },
     "execution_count": 70,
     "metadata": {},
     "output_type": "execute_result"
    }
   ],
   "source": [
    "model.wv.most_similar_cosmul(positive=['japan', 'hiroshima'], negative=['canada'])\n"
   ]
  },
  {
   "cell_type": "code",
   "execution_count": 7,
   "id": "142050d6",
   "metadata": {},
   "outputs": [
    {
     "data": {
      "text/plain": [
       "<gensim.models.word2vec.Word2Vec at 0x21950511790>"
      ]
     },
     "execution_count": 7,
     "metadata": {},
     "output_type": "execute_result"
    }
   ],
   "source": [
    "model"
   ]
  },
  {
   "cell_type": "code",
   "execution_count": 75,
   "id": "b8757fed",
   "metadata": {},
   "outputs": [],
   "source": [
    "# model.save('C:\\\\Users\\\\Chike\\\\Documents\\\\Projects\\\\twitter-disaster-prediction\\\\models\\\\word_vector_model.bin')\n",
    "model.wv.save_word2vec_format('C:\\\\Users\\\\Chike\\\\Documents\\\\Projects\\\\twitter-disaster-prediction\\\\models\\\\word_vector_model.txt',binary=False)"
   ]
  },
  {
   "cell_type": "code",
   "execution_count": 68,
   "id": "37f33065",
   "metadata": {},
   "outputs": [
    {
     "name": "stderr",
     "output_type": "stream",
     "text": [
      "<ipython-input-68-86f2c556b7d6>:1: DeprecationWarning: Call to deprecated `most_similar` (Method will be removed in 4.0.0, use self.wv.most_similar() instead).\n",
      "  model.most_similar('storm')\n"
     ]
    },
    {
     "data": {
      "text/plain": [
       "[('amp', 0.999889612197876),\n",
       " ('us', 0.9998836517333984),\n",
       " ('get', 0.9998766183853149),\n",
       " ('first', 0.9998734593391418),\n",
       " ('could', 0.9998716115951538),\n",
       " ('like', 0.9998713731765747),\n",
       " ('w', 0.9998659491539001),\n",
       " ('new', 0.9998619556427002),\n",
       " ('would', 0.999860405921936),\n",
       " ('let', 0.999860405921936)]"
      ]
     },
     "execution_count": 68,
     "metadata": {},
     "output_type": "execute_result"
    }
   ],
   "source": [
    "model.most_similar('storm')"
   ]
  },
  {
   "cell_type": "code",
   "execution_count": 33,
   "id": "6b55ee45",
   "metadata": {},
   "outputs": [
    {
     "name": "stderr",
     "output_type": "stream",
     "text": [
      "<ipython-input-33-bf0adc080765>:1: DeprecationWarning: Call to deprecated `__getitem__` (Method will be removed in 4.0.0, use self.wv.__getitem__() instead).\n",
      "  w=model['hello']\n"
     ]
    }
   ],
   "source": [
    "w=model['hello']"
   ]
  },
  {
   "cell_type": "code",
   "execution_count": 67,
   "id": "6b149887",
   "metadata": {},
   "outputs": [
    {
     "name": "stderr",
     "output_type": "stream",
     "text": [
      "<ipython-input-67-24e53453ee11>:1: DeprecationWarning: Call to deprecated `similarity` (Method will be removed in 4.0.0, use self.wv.similarity() instead).\n",
      "  model.similarity('cat','dog')\n"
     ]
    },
    {
     "data": {
      "text/plain": [
       "0.9944706"
      ]
     },
     "execution_count": 67,
     "metadata": {},
     "output_type": "execute_result"
    }
   ],
   "source": [
    "model.similarity('cat','dog')"
   ]
  },
  {
   "cell_type": "code",
   "execution_count": 34,
   "id": "2cf487d7",
   "metadata": {},
   "outputs": [
    {
     "name": "stdout",
     "output_type": "stream",
     "text": [
      "50\n"
     ]
    }
   ],
   "source": [
    "print(len(w))"
   ]
  },
  {
   "cell_type": "code",
   "execution_count": 35,
   "id": "e1469097",
   "metadata": {},
   "outputs": [
    {
     "name": "stdout",
     "output_type": "stream",
     "text": [
      "[ 0.0103592   0.0167392  -0.1259266   0.05049117 -0.05695653 -0.01029395\n",
      " -0.13956724 -0.07173952 -0.0157936   0.08282437 -0.22417651 -0.18025127\n",
      " -0.08046712 -0.00919821 -0.05052771 -0.0220044   0.00461344  0.0289478\n",
      "  0.03481887 -0.10265608 -0.03456781 -0.19264355 -0.05603924  0.0635503\n",
      "  0.00358791 -0.06591843 -0.00295201  0.12138583 -0.00325612  0.0275659\n",
      " -0.02604444  0.04579365  0.00786794  0.06933671 -0.04384732 -0.0536418\n",
      " -0.08605436 -0.03346424  0.13791889 -0.02889239  0.12472684  0.11659456\n",
      "  0.11075076  0.05519648  0.02435321  0.06159047 -0.07476112  0.07061774\n",
      " -0.13373831 -0.12103232]\n"
     ]
    }
   ],
   "source": [
    "print(w)"
   ]
  },
  {
   "cell_type": "code",
   "execution_count": 40,
   "id": "29af1c9f",
   "metadata": {},
   "outputs": [
    {
     "name": "stderr",
     "output_type": "stream",
     "text": [
      "<ipython-input-40-3b798be0f9ff>:1: DeprecationWarning: Call to deprecated `__getitem__` (Method will be removed in 4.0.0, use self.wv.__getitem__() instead).\n",
      "  w1=model['flood']\n",
      "<ipython-input-40-3b798be0f9ff>:2: DeprecationWarning: Call to deprecated `__getitem__` (Method will be removed in 4.0.0, use self.wv.__getitem__() instead).\n",
      "  w2=model['fire']\n"
     ]
    },
    {
     "data": {
      "text/plain": [
       "0.6802377"
      ]
     },
     "execution_count": 40,
     "metadata": {},
     "output_type": "execute_result"
    }
   ],
   "source": [
    "w1=model['flood']\n",
    "w2=model['fire']\n",
    "dist=np.linalg.norm(w1-w2)\n",
    "dist"
   ]
  },
  {
   "cell_type": "code",
   "execution_count": 73,
   "id": "4a9885b9",
   "metadata": {},
   "outputs": [
    {
     "name": "stderr",
     "output_type": "stream",
     "text": [
      "<ipython-input-73-c60322eee7e8>:1: DeprecationWarning: Call to deprecated `__getitem__` (Method will be removed in 4.0.0, use self.wv.__getitem__() instead).\n",
      "  X = model[model.wv.vocab]\n"
     ]
    }
   ],
   "source": [
    "X = model[model.wv.vocab]"
   ]
  },
  {
   "cell_type": "code",
   "execution_count": 74,
   "id": "8aa4ecdd",
   "metadata": {},
   "outputs": [
    {
     "data": {
      "image/png": "[encoded data removed]",
      "text/plain": [
       "<Figure size 432x288 with 1 Axes>"
      ]
     },
     "metadata": {
      "needs_background": "light"
     },
     "output_type": "display_data"
    }
   ],
   "source": [
    "# train model\n",
    "# model = Word2Vec(sentences, min_count=1)\n",
    "# fit a 2d PCA model to the vectors\n",
    "# X = model[model.wv.vocab]\n",
    "pca = PCA(n_components=2)\n",
    "result = pca.fit_transform(X)\n",
    "# create a scatter plot of the projection\n",
    "pyplot.scatter(result[:, 0], result[:, 1])\n",
    "words = list(model.wv.vocab)\n",
    "for i, word in enumerate(words):\n",
    "\tpyplot.annotate(word, xy=(result[i, 0], result[i, 1]))\n",
    "pyplot.show()"
   ]
  },
  {
   "cell_type": "code",
   "execution_count": 61,
   "id": "24c43541",
   "metadata": {},
   "outputs": [
    {
     "ename": "FileNotFoundError",
     "evalue": "[Errno 2] No such file or directory: 'GoogleNews-vectors-negative300.bin'",
     "output_type": "error",
     "traceback": [
      "\u001b[1;31m---------------------------------------------------------------------------\u001b[0m",
      "\u001b[1;31mFileNotFoundError\u001b[0m                         Traceback (most recent call last)",
      "\u001b[1;32m<ipython-input-61-71e69762c4d8>\u001b[0m in \u001b[0;36m<module>\u001b[1;34m\u001b[0m\n\u001b[0;32m      1\u001b[0m \u001b[1;32mfrom\u001b[0m \u001b[0mgensim\u001b[0m\u001b[1;33m.\u001b[0m\u001b[0mmodels\u001b[0m \u001b[1;32mimport\u001b[0m \u001b[0mKeyedVectors\u001b[0m\u001b[1;33m\u001b[0m\u001b[1;33m\u001b[0m\u001b[0m\n\u001b[0;32m      2\u001b[0m \u001b[0mfilename\u001b[0m \u001b[1;33m=\u001b[0m \u001b[1;34m'GoogleNews-vectors-negative300.bin'\u001b[0m\u001b[1;33m\u001b[0m\u001b[1;33m\u001b[0m\u001b[0m\n\u001b[1;32m----> 3\u001b[1;33m \u001b[0mmodel\u001b[0m \u001b[1;33m=\u001b[0m \u001b[0mKeyedVectors\u001b[0m\u001b[1;33m.\u001b[0m\u001b[0mload_word2vec_format\u001b[0m\u001b[1;33m(\u001b[0m\u001b[0mfilename\u001b[0m\u001b[1;33m,\u001b[0m \u001b[0mbinary\u001b[0m\u001b[1;33m=\u001b[0m\u001b[1;32mTrue\u001b[0m\u001b[1;33m)\u001b[0m\u001b[1;33m\u001b[0m\u001b[1;33m\u001b[0m\u001b[0m\n\u001b[0m",
      "\u001b[1;32m~\\Anaconda3\\envs\\bball\\lib\\site-packages\\gensim\\models\\keyedvectors.py\u001b[0m in \u001b[0;36mload_word2vec_format\u001b[1;34m(cls, fname, fvocab, binary, encoding, unicode_errors, limit, datatype)\u001b[0m\n\u001b[0;32m   1545\u001b[0m         \"\"\"\n\u001b[0;32m   1546\u001b[0m         \u001b[1;31m# from gensim.models.word2vec import load_word2vec_format\u001b[0m\u001b[1;33m\u001b[0m\u001b[1;33m\u001b[0m\u001b[1;33m\u001b[0m\u001b[0m\n\u001b[1;32m-> 1547\u001b[1;33m         return _load_word2vec_format(\n\u001b[0m\u001b[0;32m   1548\u001b[0m             \u001b[0mcls\u001b[0m\u001b[1;33m,\u001b[0m \u001b[0mfname\u001b[0m\u001b[1;33m,\u001b[0m \u001b[0mfvocab\u001b[0m\u001b[1;33m=\u001b[0m\u001b[0mfvocab\u001b[0m\u001b[1;33m,\u001b[0m \u001b[0mbinary\u001b[0m\u001b[1;33m=\u001b[0m\u001b[0mbinary\u001b[0m\u001b[1;33m,\u001b[0m \u001b[0mencoding\u001b[0m\u001b[1;33m=\u001b[0m\u001b[0mencoding\u001b[0m\u001b[1;33m,\u001b[0m \u001b[0municode_errors\u001b[0m\u001b[1;33m=\u001b[0m\u001b[0municode_errors\u001b[0m\u001b[1;33m,\u001b[0m\u001b[1;33m\u001b[0m\u001b[1;33m\u001b[0m\u001b[0m\n\u001b[0;32m   1549\u001b[0m             limit=limit, datatype=datatype)\n",
      "\u001b[1;32m~\\Anaconda3\\envs\\bball\\lib\\site-packages\\gensim\\models\\utils_any2vec.py\u001b[0m in \u001b[0;36m_load_word2vec_format\u001b[1;34m(cls, fname, fvocab, binary, encoding, unicode_errors, limit, datatype, binary_chunk_size)\u001b[0m\n\u001b[0;32m    273\u001b[0m \u001b[1;33m\u001b[0m\u001b[0m\n\u001b[0;32m    274\u001b[0m     \u001b[0mlogger\u001b[0m\u001b[1;33m.\u001b[0m\u001b[0minfo\u001b[0m\u001b[1;33m(\u001b[0m\u001b[1;34m\"loading projection weights from %s\"\u001b[0m\u001b[1;33m,\u001b[0m \u001b[0mfname\u001b[0m\u001b[1;33m)\u001b[0m\u001b[1;33m\u001b[0m\u001b[1;33m\u001b[0m\u001b[0m\n\u001b[1;32m--> 275\u001b[1;33m     \u001b[1;32mwith\u001b[0m \u001b[0mutils\u001b[0m\u001b[1;33m.\u001b[0m\u001b[0mopen\u001b[0m\u001b[1;33m(\u001b[0m\u001b[0mfname\u001b[0m\u001b[1;33m,\u001b[0m \u001b[1;34m'rb'\u001b[0m\u001b[1;33m)\u001b[0m \u001b[1;32mas\u001b[0m \u001b[0mfin\u001b[0m\u001b[1;33m:\u001b[0m\u001b[1;33m\u001b[0m\u001b[1;33m\u001b[0m\u001b[0m\n\u001b[0m\u001b[0;32m    276\u001b[0m         \u001b[0mheader\u001b[0m \u001b[1;33m=\u001b[0m \u001b[0mutils\u001b[0m\u001b[1;33m.\u001b[0m\u001b[0mto_unicode\u001b[0m\u001b[1;33m(\u001b[0m\u001b[0mfin\u001b[0m\u001b[1;33m.\u001b[0m\u001b[0mreadline\u001b[0m\u001b[1;33m(\u001b[0m\u001b[1;33m)\u001b[0m\u001b[1;33m,\u001b[0m \u001b[0mencoding\u001b[0m\u001b[1;33m=\u001b[0m\u001b[0mencoding\u001b[0m\u001b[1;33m)\u001b[0m\u001b[1;33m\u001b[0m\u001b[1;33m\u001b[0m\u001b[0m\n\u001b[0;32m    277\u001b[0m         \u001b[0mvocab_size\u001b[0m\u001b[1;33m,\u001b[0m \u001b[0mvector_size\u001b[0m \u001b[1;33m=\u001b[0m \u001b[1;33m(\u001b[0m\u001b[0mint\u001b[0m\u001b[1;33m(\u001b[0m\u001b[0mx\u001b[0m\u001b[1;33m)\u001b[0m \u001b[1;32mfor\u001b[0m \u001b[0mx\u001b[0m \u001b[1;32min\u001b[0m \u001b[0mheader\u001b[0m\u001b[1;33m.\u001b[0m\u001b[0msplit\u001b[0m\u001b[1;33m(\u001b[0m\u001b[1;33m)\u001b[0m\u001b[1;33m)\u001b[0m  \u001b[1;31m# throws for invalid file format\u001b[0m\u001b[1;33m\u001b[0m\u001b[1;33m\u001b[0m\u001b[0m\n",
      "\u001b[1;32m~\\Anaconda3\\envs\\bball\\lib\\site-packages\\smart_open\\smart_open_lib.py\u001b[0m in \u001b[0;36mopen\u001b[1;34m(uri, mode, buffering, encoding, errors, newline, closefd, opener, ignore_ext, transport_params)\u001b[0m\n\u001b[0;32m    300\u001b[0m         \u001b[0mtransport_params\u001b[0m \u001b[1;33m=\u001b[0m \u001b[1;33m{\u001b[0m\u001b[1;33m}\u001b[0m\u001b[1;33m\u001b[0m\u001b[1;33m\u001b[0m\u001b[0m\n\u001b[0;32m    301\u001b[0m \u001b[1;33m\u001b[0m\u001b[0m\n\u001b[1;32m--> 302\u001b[1;33m     fobj = _shortcut_open(\n\u001b[0m\u001b[0;32m    303\u001b[0m         \u001b[0muri\u001b[0m\u001b[1;33m,\u001b[0m\u001b[1;33m\u001b[0m\u001b[1;33m\u001b[0m\u001b[0m\n\u001b[0;32m    304\u001b[0m         \u001b[0mmode\u001b[0m\u001b[1;33m,\u001b[0m\u001b[1;33m\u001b[0m\u001b[1;33m\u001b[0m\u001b[0m\n",
      "\u001b[1;32m~\\Anaconda3\\envs\\bball\\lib\\site-packages\\smart_open\\smart_open_lib.py\u001b[0m in \u001b[0;36m_shortcut_open\u001b[1;34m(uri, mode, ignore_ext, buffering, encoding, errors)\u001b[0m\n\u001b[0;32m    515\u001b[0m     \u001b[1;31m#\u001b[0m\u001b[1;33m\u001b[0m\u001b[1;33m\u001b[0m\u001b[1;33m\u001b[0m\u001b[0m\n\u001b[0;32m    516\u001b[0m     \u001b[1;32mif\u001b[0m \u001b[0msix\u001b[0m\u001b[1;33m.\u001b[0m\u001b[0mPY3\u001b[0m\u001b[1;33m:\u001b[0m\u001b[1;33m\u001b[0m\u001b[1;33m\u001b[0m\u001b[0m\n\u001b[1;32m--> 517\u001b[1;33m         \u001b[1;32mreturn\u001b[0m \u001b[0m_builtin_open\u001b[0m\u001b[1;33m(\u001b[0m\u001b[0mparsed_uri\u001b[0m\u001b[1;33m.\u001b[0m\u001b[0muri_path\u001b[0m\u001b[1;33m,\u001b[0m \u001b[0mmode\u001b[0m\u001b[1;33m,\u001b[0m \u001b[0mbuffering\u001b[0m\u001b[1;33m=\u001b[0m\u001b[0mbuffering\u001b[0m\u001b[1;33m,\u001b[0m \u001b[1;33m**\u001b[0m\u001b[0mopen_kwargs\u001b[0m\u001b[1;33m)\u001b[0m\u001b[1;33m\u001b[0m\u001b[1;33m\u001b[0m\u001b[0m\n\u001b[0m\u001b[0;32m    518\u001b[0m     \u001b[1;32melif\u001b[0m \u001b[1;32mnot\u001b[0m \u001b[0mopen_kwargs\u001b[0m\u001b[1;33m:\u001b[0m\u001b[1;33m\u001b[0m\u001b[1;33m\u001b[0m\u001b[0m\n\u001b[0;32m    519\u001b[0m         \u001b[1;32mreturn\u001b[0m \u001b[0m_builtin_open\u001b[0m\u001b[1;33m(\u001b[0m\u001b[0mparsed_uri\u001b[0m\u001b[1;33m.\u001b[0m\u001b[0muri_path\u001b[0m\u001b[1;33m,\u001b[0m \u001b[0mmode\u001b[0m\u001b[1;33m,\u001b[0m \u001b[0mbuffering\u001b[0m\u001b[1;33m=\u001b[0m\u001b[0mbuffering\u001b[0m\u001b[1;33m)\u001b[0m\u001b[1;33m\u001b[0m\u001b[1;33m\u001b[0m\u001b[0m\n",
      "\u001b[1;31mFileNotFoundError\u001b[0m: [Errno 2] No such file or directory: 'GoogleNews-vectors-negative300.bin'"
     ]
    }
   ],
   "source": [
    "from gensim.models import KeyedVectors\n",
    "filename = 'GoogleNews-vectors-negative300.bin'\n",
    "model = KeyedVectors.load_word2vec_format(filename, binary=True)"
   ]
  }
 ],
 "metadata": {
  "kernelspec": {
   "display_name": "bball",
   "language": "python",
   "name": "bball"
  },
  "language_info": {
   "codemirror_mode": {
    "name": "ipython",
    "version": 3
   },
   "file_extension": ".py",
   "mimetype": "text/x-python",
   "name": "python",
   "nbconvert_exporter": "python",
   "pygments_lexer": "ipython3",
   "version": "3.9.4"
  }
 },
 "nbformat": 4,
 "nbformat_minor": 5
}
